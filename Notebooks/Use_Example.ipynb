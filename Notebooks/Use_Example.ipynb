{
 "cells": [
  {
   "cell_type": "markdown",
   "metadata": {},
   "source": [
    "# Example Code for Controlling Powder Dispensing module"
   ]
  },
  {
   "cell_type": "markdown",
   "metadata": {},
   "source": [
    "### Initialization of the communication code and the controller"
   ]
  },
  {
   "cell_type": "code",
   "execution_count": null,
   "metadata": {},
   "outputs": [],
   "source": [
    "import os\n",
    "os.chdir(\"..\")\n",
    "print(f\"Current working directory: {os.getcwd()}\")"
   ]
  },
  {
   "cell_type": "code",
   "execution_count": null,
   "metadata": {},
   "outputs": [],
   "source": [
    "from PowderDispenserController import controller, get_serial_port, list_serial_ports\n",
    "\n",
    "import time \n",
    "import numpy as np\n",
    "import matplotlib as plt"
   ]
  },
  {
   "cell_type": "markdown",
   "metadata": {},
   "source": [
    "### Setup the controller by making an instance of it"
   ]
  },
  {
   "cell_type": "code",
   "execution_count": null,
   "metadata": {},
   "outputs": [],
   "source": [
    "dispenseBot = controller.PowderDispenseController(get_serial_port(), \n",
    "                                                  mixTime = 8, \n",
    "                                                  drainTime = 10, \n",
    "                                                  config_file = 'config.json'\n",
    "                                                  )"
   ]
  },
  {
   "cell_type": "markdown",
   "metadata": {},
   "source": [
    "### Quick system check"
   ]
  },
  {
   "cell_type": "markdown",
   "metadata": {},
   "source": [
    "Scale Check"
   ]
  },
  {
   "cell_type": "code",
   "execution_count": null,
   "metadata": {},
   "outputs": [],
   "source": [
    "dispenseBot.scaleOn()"
   ]
  },
  {
   "cell_type": "code",
   "execution_count": null,
   "metadata": {},
   "outputs": [],
   "source": [
    "dispenseBot.tare()"
   ]
  },
  {
   "cell_type": "code",
   "execution_count": null,
   "metadata": {},
   "outputs": [],
   "source": [
    "weight = dispenseBot.measWeight()\n",
    "print(f\"weight: {weight}\")"
   ]
  },
  {
   "cell_type": "code",
   "execution_count": null,
   "metadata": {},
   "outputs": [],
   "source": [
    "for i in range(60):  # Loop for 60 iterations\n",
    "    weight = dispenseBot.measWeight()  # Measure the weight\n",
    "    print(f\"{weight}\")  # Print the weight\n",
    "    time.sleep(1)  # Wait for one second before the next measurement"
   ]
  },
  {
   "cell_type": "code",
   "execution_count": null,
   "metadata": {},
   "outputs": [],
   "source": [
    "dispenseBot.scaleOff()"
   ]
  },
  {
   "cell_type": "markdown",
   "metadata": {},
   "source": [
    "Mixer and Drain Check"
   ]
  },
  {
   "cell_type": "code",
   "execution_count": null,
   "metadata": {},
   "outputs": [],
   "source": [
    "dispenseBot.runMixer(4)"
   ]
  },
  {
   "cell_type": "code",
   "execution_count": null,
   "metadata": {},
   "outputs": [],
   "source": [
    "dispenseBot.runDrain(10)"
   ]
  },
  {
   "cell_type": "code",
   "execution_count": null,
   "metadata": {},
   "outputs": [],
   "source": [
    "dispenseBot.runFlush(1)"
   ]
  },
  {
   "cell_type": "code",
   "execution_count": null,
   "metadata": {},
   "outputs": [],
   "source": [
    "dispenseBot.reset()"
   ]
  },
  {
   "cell_type": "markdown",
   "metadata": {},
   "source": [
    "Dispenser Check"
   ]
  },
  {
   "cell_type": "code",
   "execution_count": null,
   "metadata": {},
   "outputs": [],
   "source": [
    "dispenseBot.enableStepper()"
   ]
  },
  {
   "cell_type": "code",
   "execution_count": null,
   "metadata": {},
   "outputs": [],
   "source": [
    "dispenseBot.dispense(amount_or_steps = 2000, \n",
    "                     runSteps = True, \n",
    "                     direction = dispenseBot.dispenseDir)"
   ]
  },
  {
   "cell_type": "code",
   "execution_count": null,
   "metadata": {},
   "outputs": [],
   "source": [
    "dispenseBot.disableStepper()"
   ]
  },
  {
   "cell_type": "markdown",
   "metadata": {},
   "source": [
    "Single Cycle Check"
   ]
  },
  {
   "cell_type": "code",
   "execution_count": null,
   "metadata": {},
   "outputs": [],
   "source": [
    "dispenseBot.runFlush(1)\n",
    "time.sleep(1)\n",
    "dispenseBot.enableStepper()\n",
    "time.sleep(1)\n",
    "dispenseBot.dispense(amount_or_steps = 2000, \n",
    "                     runSteps = True, \n",
    "                     direction = dispenseBot.dispenseDir)\n",
    "time.sleep(1)\n",
    "dispenseBot.disableStepper()\n",
    "time.sleep(1)\n",
    "dispenseBot.scaleOn()\n",
    "weight = dispenseBot.measWeight()\n",
    "print(f\"weight: {weight}\")\n",
    "time.sleep(1)\n",
    "dispenseBot.runMixer(4)\n",
    "time.sleep(3)\n",
    "dispenseBot.runDrain(4)\n"
   ]
  },
  {
   "cell_type": "markdown",
   "metadata": {},
   "source": [
    "### Step-by-step Demo"
   ]
  },
  {
   "cell_type": "code",
   "execution_count": null,
   "metadata": {},
   "outputs": [],
   "source": [
    "dispenseBot.runFlush(0.8)"
   ]
  },
  {
   "cell_type": "code",
   "execution_count": null,
   "metadata": {},
   "outputs": [],
   "source": [
    "dispenseBot.enableStepper()\n",
    "dispenseBot.dispense(amount_or_steps = 1000, \n",
    "                     runSteps = True, \n",
    "                     direction = dispenseBot.dispenseDir)\n",
    "dispenseBot.disableStepper()"
   ]
  },
  {
   "cell_type": "code",
   "execution_count": null,
   "metadata": {},
   "outputs": [],
   "source": [
    "dispenseBot.scaleOn()"
   ]
  },
  {
   "cell_type": "code",
   "execution_count": null,
   "metadata": {},
   "outputs": [],
   "source": [
    "dispenseBot.tare()"
   ]
  },
  {
   "cell_type": "code",
   "execution_count": null,
   "metadata": {},
   "outputs": [],
   "source": [
    "dispenseBot.scaleOff()"
   ]
  },
  {
   "cell_type": "code",
   "execution_count": null,
   "metadata": {},
   "outputs": [],
   "source": [
    "dispenseBot.runMixer(5)"
   ]
  },
  {
   "cell_type": "code",
   "execution_count": null,
   "metadata": {},
   "outputs": [],
   "source": [
    "dispenseBot.runDrain(1)"
   ]
  },
  {
   "cell_type": "markdown",
   "metadata": {},
   "source": [
    "### DEMO LOOP"
   ]
  },
  {
   "cell_type": "code",
   "execution_count": null,
   "metadata": {},
   "outputs": [],
   "source": [
    "# Assuming the dispenseBot object and its methods are properly defined elsewhere in your code.\n",
    "\n",
    "x = 3\n",
    "amount_or_steps = 2000\n",
    "runSteps = True\n",
    "\n",
    "for i in range(x):\n",
    "    print(f\"Starting cycle {i+1}\")\n",
    "    \n",
    "    # Flushing the system\n",
    "    # dispenseBot.runFlush(2)\n",
    "    # time.sleep(1)\n",
    "    \n",
    "    # Weighing procedure\n",
    "    # dispenseBot.scaleOn()\n",
    "    # dispenseBot.tare()\n",
    "    # time.sleep(1)\n",
    "    # dispenseBot.tare()\n",
    "    # time.sleep(1)\n",
    "    \n",
    "    # Enabling and running the stepper motor to dispense\n",
    "    dispenseBot.enableStepper()\n",
    "    time.sleep(0.5)\n",
    "    dispenseBot.dispense(amount_or_steps=amount_or_steps, runSteps=runSteps, direction=dispenseBot.dispenseDir)\n",
    "    # time.sleep(0.2)\n",
    "    # dispenseBot.dispense(amount_or_steps = 200, runSteps=True, direction = 0)\n",
    "    time.sleep(0.5)\n",
    "    dispenseBot.disableStepper()\n",
    "    \n",
    "    # print(f\"Settling...\")\n",
    "    # time.sleep(5)\n",
    "    # for j in range(30):\n",
    "    #     weight = dispenseBot.measWeight()\n",
    "    #     time.sleep(0.1)\n",
    "    # print(f\"Weight measured: {weight} grams\")\n",
    "    # time.sleep(0.2)\n",
    "    # dispenseBot.scaleOff()\n",
    "    \n",
    "    # Mixing and draining\n",
    "    # dispenseBot.runMixer(2)\n",
    "    # time.sleep(3)\n",
    "    # dispenseBot.runDrain(2)\n",
    "\n",
    "    print(f\"Cycle {i+1} completed\")"
   ]
  },
  {
   "cell_type": "code",
   "execution_count": null,
   "metadata": {},
   "outputs": [],
   "source": [
    "x = 1\n",
    "desired_amount = 0.500\n",
    "\n",
    "for i in range(x):\n",
    "    print(f\"Starting cycle {i+1}\")\n",
    "    \n",
    "    # Flushing the system\n",
    "    dispenseBot.runFlush(1.3)\n",
    "    time.sleep(1)  \n",
    "    \n",
    "    # Weighing procedure\n",
    "    dispenseBot.scaleOn()\n",
    "    dispenseBot.tare()\n",
    "    time.sleep(0.5)\n",
    "    dispenseBot.tare()\n",
    "    time.sleep(0.5)\n",
    "    \n",
    "    dispenseBot.dispense_powder_seq(desired_amount=desired_amount)\n",
    "\n",
    "    # print(f\"Settling...\")\n",
    "    # time.sleep(5)\n",
    "    # for j in range(30):\n",
    "    #     weight = dispenseBot.measWeight()\n",
    "    #     time.sleep(0.1)\n",
    "    # print(f\"Weight measured: {weight} grams\")\n",
    "    # time.sleep(0.2)\n",
    "    dispenseBot.scaleOff()\n",
    "    dispenseBot.disableStepper()\n",
    "    \n",
    "    # Mixing and draining\n",
    "    dispenseBot.runMixer(5)\n",
    "    time.sleep(2)\n",
    "    dispenseBot.runDrain(10)\n",
    "\n",
    "    print(f\"Cycle {i+1} completed\")"
   ]
  },
  {
   "cell_type": "markdown",
   "metadata": {},
   "source": [
    "### Dispensing"
   ]
  },
  {
   "cell_type": "markdown",
   "metadata": {},
   "source": [
    "Adding solvent"
   ]
  },
  {
   "cell_type": "code",
   "execution_count": null,
   "metadata": {},
   "outputs": [],
   "source": [
    "# input(\"Please add the desired amount of solvent - in a real case this would be automatically detected either via the scale or a flag further up the stream.\")d\n",
    "time.sleep(1)\n",
    "dispenseBot.runFlush(1)\n"
   ]
  },
  {
   "cell_type": "code",
   "execution_count": null,
   "metadata": {},
   "outputs": [],
   "source": [
    "\n",
    "print(\"The desired amount of solvent is added, we are ready to dispense!!!\")\n",
    "dispenseBot.scaleOn()\n",
    "dispenseBot.tare()"
   ]
  },
  {
   "cell_type": "code",
   "execution_count": null,
   "metadata": {},
   "outputs": [],
   "source": [
    "dispenseBot.measWeight()"
   ]
  },
  {
   "cell_type": "code",
   "execution_count": null,
   "metadata": {},
   "outputs": [],
   "source": [
    "\n",
    "dispenseBot.dispense_powder_seq(desired_amount = 0.05)"
   ]
  },
  {
   "cell_type": "code",
   "execution_count": null,
   "metadata": {},
   "outputs": [],
   "source": [
    "dispenseBot.reset()"
   ]
  },
  {
   "cell_type": "code",
   "execution_count": null,
   "metadata": {},
   "outputs": [],
   "source": [
    "dispenseBot.disableStepper()"
   ]
  },
  {
   "cell_type": "code",
   "execution_count": null,
   "metadata": {},
   "outputs": [],
   "source": [
    "dispenseBot.enableStepper()"
   ]
  },
  {
   "cell_type": "code",
   "execution_count": null,
   "metadata": {},
   "outputs": [],
   "source": [
    "dispenseBot.dispense(runSteps=True, amount_or_steps=1000)"
   ]
  },
  {
   "cell_type": "code",
   "execution_count": null,
   "metadata": {},
   "outputs": [],
   "source": [
    "dispenseBot.disableStepper()"
   ]
  },
  {
   "cell_type": "markdown",
   "metadata": {},
   "source": [
    "### Auger Calibration"
   ]
  },
  {
   "cell_type": "code",
   "execution_count": null,
   "metadata": {},
   "outputs": [],
   "source": [
    "direction = dispenseBot.dispenseDir\n",
    "maxSteps = 50000\n",
    "stepInterval = 5000\n",
    "minSteps = 0\n",
    "augerType = '8mm_base'\n",
    "powderType = 'dishwasher_salt'\n",
    "\n",
    "dispenseBot.calibrate_auger_seq(direction = direction, \n",
    "                                maxSteps = maxSteps, \n",
    "                                stepInterval = stepInterval, \n",
    "                                augerType = augerType, \n",
    "                                powderType = powderType)"
   ]
  },
  {
   "cell_type": "markdown",
   "metadata": {},
   "source": [
    "### Scale Calibration"
   ]
  },
  {
   "cell_type": "code",
   "execution_count": null,
   "metadata": {},
   "outputs": [],
   "source": []
  },
  {
   "cell_type": "markdown",
   "metadata": {},
   "source": [
    "### Sensitivity Test"
   ]
  },
  {
   "cell_type": "markdown",
   "metadata": {},
   "source": [
    "Testing the sensitivity of the scale by it self"
   ]
  },
  {
   "cell_type": "code",
   "execution_count": null,
   "metadata": {},
   "outputs": [],
   "source": [
    "dispenseBot.sensitivity_test(reps = 5, \n",
    "                             samples = 5, \n",
    "                             use_dispenser = False\n",
    "                             )"
   ]
  },
  {
   "cell_type": "markdown",
   "metadata": {},
   "source": [
    "Testing the sensitivity of the system using the dispenser "
   ]
  },
  {
   "cell_type": "code",
   "execution_count": null,
   "metadata": {},
   "outputs": [],
   "source": [
    "dispenseBot.sensitivity_test(reps = 5, \n",
    "                             samples = 5,\n",
    "                             use_dispenser = True,\n",
    "                             amount_or_steps = 0.05\n",
    "                             )"
   ]
  },
  {
   "cell_type": "markdown",
   "metadata": {},
   "source": [
    "### Accuracy Test"
   ]
  },
  {
   "cell_type": "markdown",
   "metadata": {},
   "source": [
    "### Stability Test"
   ]
  },
  {
   "cell_type": "code",
   "execution_count": null,
   "metadata": {},
   "outputs": [],
   "source": [
    "dispenseBot.stability_test(test_duration = 600, desired_amount = 0.1)"
   ]
  }
 ],
 "metadata": {
  "kernelspec": {
   "display_name": "PowderEnv",
   "language": "python",
   "name": "python3"
  },
  "language_info": {
   "codemirror_mode": {
    "name": "ipython",
    "version": 3
   },
   "file_extension": ".py",
   "mimetype": "text/x-python",
   "name": "python",
   "nbconvert_exporter": "python",
   "pygments_lexer": "ipython3",
   "version": "3.11.9"
  }
 },
 "nbformat": 4,
 "nbformat_minor": 2
}
