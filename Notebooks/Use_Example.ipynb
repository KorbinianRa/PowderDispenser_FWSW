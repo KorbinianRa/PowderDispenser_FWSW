{
 "cells": [
  {
   "cell_type": "markdown",
   "metadata": {},
   "source": [
    "# **Example Code for Controlling Powder Dispensing Module**"
   ]
  },
  {
   "cell_type": "markdown",
   "metadata": {},
   "source": [
    "### Initialization of the communication code and the controller"
   ]
  },
  {
   "cell_type": "markdown",
   "metadata": {},
   "source": [
    "## **Initialization of the communication code and the controller**\n",
    "### Changing Directory and Printing Current Working Directory\n",
    "- The `os` module is used to interact with the operating system.\n",
    "- `os.chdir(\"..\")` changes the current working directory to the parent directory.\n",
    "- This is often done to ensure the script has access to files located in the parent directory.\n",
    "- `os.getcwd()` retrieves the current working directory as a string.\n",
    "- The `print` statement displays the current working directory to verify the change."
   ]
  },
  {
   "cell_type": "code",
   "execution_count": null,
   "metadata": {},
   "outputs": [],
   "source": [
    "import os\n",
    "os.chdir(\"..\")\n",
    "print(f\"Current working directory: {os.getcwd()}\")"
   ]
  },
  {
   "cell_type": "markdown",
   "metadata": {},
   "source": [
    "### Importing Required Modules\n",
    "1. **`PowderDispenserController` Components**:\n",
    "   - `controller`: The main module containing the `PowderDispenseController` class, which manages the hardware interface.\n",
    "   - `get_serial_port`: A utility function to detect and return the appropriate serial port for communication with the hardware.\n",
    "   - `list_serial_ports`: A utility function to list all available serial ports, useful for debugging hardware connections.\n",
    "\n",
    "2. **Python Libraries**:\n",
    "   - `time`: Provides time-related functions, such as sleep, for managing delays in operations.\n",
    "   - `numpy` (imported as `np`): A library for numerical computations, potentially used for data analysis or manipulation.\n",
    "   - `matplotlib` (imported as `plt`): A plotting library for data visualization (though unused here, it is likely intended for later use)."
   ]
  },
  {
   "cell_type": "code",
   "execution_count": null,
   "metadata": {},
   "outputs": [],
   "source": [
    "from PowderDispenserController import controller, get_serial_port, list_serial_ports\n",
    "\n",
    "import time \n",
    "import numpy as np\n",
    "import matplotlib as plt"
   ]
  },
  {
   "cell_type": "markdown",
   "metadata": {},
   "source": [
    "### Setting Up the Controller Instance\n",
    "- The `PowderDispenseController` class from the `controller` module is instantiated to create the `dispenseBot` object.\n",
    "- **Parameters**:\n",
    "  - `get_serial_port()`: Automatically detects the serial port connected to the hardware and establishes communication.\n",
    "  - `mixTime=8`: Specifies the mixing duration in seconds, used for operations involving the mixer.\n",
    "  - `drainTime=10`: Specifies the drain time in seconds, used for liquid handling operations.\n",
    "  - `config_file='config.json'`: Loads system parameters and calibration data from the specified configuration file.\n",
    "- The `dispenseBot` object serves as the primary interface for controlling the powder dispensing module."
   ]
  },
  {
   "cell_type": "code",
   "execution_count": null,
   "metadata": {},
   "outputs": [],
   "source": [
    "dispenseBot = controller.PowderDispenseController(get_serial_port(), \n",
    "                                                  mixTime = 8, \n",
    "                                                  drainTime = 10, \n",
    "                                                  config_file = 'config.json'\n",
    "                                                  )"
   ]
  },
  {
   "cell_type": "markdown",
   "metadata": {},
   "source": [
    "## **Quick system check**"
   ]
  },
  {
   "cell_type": "markdown",
   "metadata": {},
   "source": [
    "### Scale Check\n",
    "- The `scaleOn()` method activates the scale, allowing it to measure weight.\n",
    "- The `tare()` method zeros the scale, ensuring accurate measurements by removing any pre-existing offsets.\n",
    "- `measWeight()`: Measures and returns the current weight on the scale. This is useful for verifying scale functionality.\n",
    "- A `for` loop is used to repeatedly measure and print the weight every second for 60 iterations.\n",
    "- The loop provides a way to monitor the stability and accuracy of the scale over time.\n",
    "- Finally, `scaleOff()` deactivates the scale to save power and ensure no unintended usage."
   ]
  },
  {
   "cell_type": "code",
   "execution_count": null,
   "metadata": {},
   "outputs": [],
   "source": [
    "dispenseBot.scaleOn()"
   ]
  },
  {
   "cell_type": "code",
   "execution_count": null,
   "metadata": {},
   "outputs": [],
   "source": [
    "dispenseBot.tare()"
   ]
  },
  {
   "cell_type": "code",
   "execution_count": null,
   "metadata": {},
   "outputs": [],
   "source": [
    "weight = dispenseBot.measWeight()\n",
    "print(f\"weight: {weight}\")"
   ]
  },
  {
   "cell_type": "code",
   "execution_count": null,
   "metadata": {},
   "outputs": [],
   "source": [
    "for i in range(60):  # Loop for 60 iterations\n",
    "    weight = dispenseBot.measWeight()  # Measure the weight\n",
    "    print(f\"{weight}\")  # Print the weight\n",
    "    time.sleep(1)  # Wait for one second before the next measurement"
   ]
  },
  {
   "cell_type": "code",
   "execution_count": null,
   "metadata": {},
   "outputs": [],
   "source": [
    "dispenseBot.scaleOff()"
   ]
  },
  {
   "cell_type": "markdown",
   "metadata": {},
   "source": [
    "### Mixer and Drain Check\n",
    "- `runMixer(4)`: Runs the mixer for 4 seconds. This ensures proper mixing of powder or other materials in the system.\n",
    "- `runDrain(10)`: Activates the drain for 10 seconds, useful for emptying liquid or cleaning the system.\n",
    "- `runFlush(1)`: Running the peristaltic pump which feeds in the liquid to the system for 1 second.\n",
    "- `reset()`: Resets the by draining, adding liquid, and draining."
   ]
  },
  {
   "cell_type": "code",
   "execution_count": null,
   "metadata": {},
   "outputs": [],
   "source": [
    "dispenseBot.runMixer(4)"
   ]
  },
  {
   "cell_type": "code",
   "execution_count": null,
   "metadata": {},
   "outputs": [],
   "source": [
    "dispenseBot.runDrain(10)"
   ]
  },
  {
   "cell_type": "code",
   "execution_count": null,
   "metadata": {},
   "outputs": [],
   "source": [
    "dispenseBot.runFlush(1)"
   ]
  },
  {
   "cell_type": "code",
   "execution_count": null,
   "metadata": {},
   "outputs": [],
   "source": [
    "dispenseBot.reset()"
   ]
  },
  {
   "cell_type": "markdown",
   "metadata": {},
   "source": [
    "### Dispenser Check\n",
    "- `enableStepper()`: Enables the stepper motor, preparing it for operation.\n",
    "- `dispense(amount_or_steps=2000, runSteps=True, direction=dispenseBot.dispenseDir)`:\n",
    "  - Dispenses material using the stepper motor.\n",
    "  - `amount_or_steps`: Specifies the number of steps (or amount) to dispense.\n",
    "  - `runSteps`: Boolean indicating whether to run the stepper motor in step mode.\n",
    "  - `direction`: Specifies the direction of dispensing.\n",
    "- `disableStepper()`: Disables the stepper motor after the operation to conserve power and prevent unintended motion."
   ]
  },
  {
   "cell_type": "code",
   "execution_count": null,
   "metadata": {},
   "outputs": [],
   "source": [
    "dispenseBot.enableStepper()"
   ]
  },
  {
   "cell_type": "code",
   "execution_count": null,
   "metadata": {},
   "outputs": [],
   "source": [
    "dispenseBot.dispense(amount_or_steps = 2000, \n",
    "                     runSteps = True, \n",
    "                     direction = dispenseBot.dispenseDir)"
   ]
  },
  {
   "cell_type": "code",
   "execution_count": null,
   "metadata": {},
   "outputs": [],
   "source": [
    "dispenseBot.disableStepper()"
   ]
  },
  {
   "cell_type": "markdown",
   "metadata": {},
   "source": [
    "### Single Cycle Check\n",
    "This section demonstrates a complete operational cycle of the powder dispensing system. It includes:\n",
    "1. **System Preparation**: The system adds the solvent(input liquid), and the stepper motor is enabled for operation.\n",
    "2. **Powder Dispensing**: The stepper motor runs to dispense a specified amount of powder.\n",
    "3. **Weight Measurement**: The scale is activated to measure and display the current weight of the dispensed material.\n",
    "4. **Mixing and Draining**: The mixer is run to blend the dispensed material, and the drain removes any excess liquid or material."
   ]
  },
  {
   "cell_type": "code",
   "execution_count": null,
   "metadata": {},
   "outputs": [],
   "source": [
    "dispenseBot.runFlush(1)\n",
    "time.sleep(1)\n",
    "dispenseBot.enableStepper()\n",
    "time.sleep(1)\n",
    "dispenseBot.dispense(amount_or_steps = 2000, \n",
    "                     runSteps = True, \n",
    "                     direction = dispenseBot.dispenseDir)\n",
    "time.sleep(1)\n",
    "dispenseBot.disableStepper()\n",
    "time.sleep(1)\n",
    "dispenseBot.scaleOn()\n",
    "weight = dispenseBot.measWeight()\n",
    "print(f\"weight: {weight}\")\n",
    "time.sleep(1)\n",
    "dispenseBot.runMixer(4)\n",
    "time.sleep(3)\n",
    "dispenseBot.runDrain(4)\n"
   ]
  },
  {
   "cell_type": "markdown",
   "metadata": {},
   "source": [
    "## **Step-by-step Demo**\n",
    "This section demonstrates a sequential operation of the dispensing system, including liquid handling and powder dispensing.\n"
   ]
  },
  {
   "cell_type": "markdown",
   "metadata": {},
   "source": [
    "1. **Add Liquid**: `runFlush(0.8)` adds liquid to the system for a specified duration (0.8 seconds). This ensures the system is primed for dispensing operations."
   ]
  },
  {
   "cell_type": "code",
   "execution_count": null,
   "metadata": {},
   "outputs": [],
   "source": [
    "dispenseBot.runFlush(0.8)"
   ]
  },
  {
   "cell_type": "markdown",
   "metadata": {},
   "source": [
    "2. **Enable Stepper Motor**: Prepares the stepper motor for dispensing.\n",
    "3. **Dispense Powder**:\n",
    "   - `dispense()`: Runs the stepper motor to dispense a specified amount or steps.\n",
    "   - Parameters:\n",
    "     - `amount_or_steps`: Number of steps (or amount) to dispense.\n",
    "     - `runSteps`: Indicates if step mode should be used.\n",
    "     - `direction`: Direction of dispensing.\n",
    "4. **Disable Stepper Motor**: Stops the stepper motor to conserve power."
   ]
  },
  {
   "cell_type": "code",
   "execution_count": null,
   "metadata": {},
   "outputs": [],
   "source": [
    "dispenseBot.enableStepper()\n",
    "dispenseBot.dispense(amount_or_steps = 1000, \n",
    "                     runSteps = True, \n",
    "                     direction = dispenseBot.dispenseDir)\n",
    "dispenseBot.disableStepper()"
   ]
  },
  {
   "cell_type": "markdown",
   "metadata": {},
   "source": [
    "5. **Weighing Procedure**:\n",
    "   - `scaleOn()` activates the scale.\n",
    "   - `tare()` zeros the scale to ensure accurate weight measurement.\n",
    "   - `scaleOff()` deactivates the scale."
   ]
  },
  {
   "cell_type": "code",
   "execution_count": null,
   "metadata": {},
   "outputs": [],
   "source": [
    "dispenseBot.scaleOn()"
   ]
  },
  {
   "cell_type": "code",
   "execution_count": null,
   "metadata": {},
   "outputs": [],
   "source": [
    "dispenseBot.tare()"
   ]
  },
  {
   "cell_type": "code",
   "execution_count": null,
   "metadata": {},
   "outputs": [],
   "source": [
    "dispenseBot.scaleOff()"
   ]
  },
  {
   "cell_type": "markdown",
   "metadata": {},
   "source": [
    "6. **Mixing and Draining**:\n",
    "   - `runMixer(5)`: Mixes the material for 5 seconds.\n",
    "   - `runDrain(10)`: Drains the system for 10 second, removing liquid or material."
   ]
  },
  {
   "cell_type": "code",
   "execution_count": null,
   "metadata": {},
   "outputs": [],
   "source": [
    "dispenseBot.runMixer(5)"
   ]
  },
  {
   "cell_type": "code",
   "execution_count": null,
   "metadata": {},
   "outputs": [],
   "source": [
    "dispenseBot.runDrain(10)"
   ]
  },
  {
   "cell_type": "markdown",
   "metadata": {},
   "source": [
    "# **DEMO LOOP**\n",
    "This section demonstrates two automated routines for the powder dispensing system. Each routine showcases the system's ability to handle sequential tasks, including flushing, weighing, dispensing, mixing, and draining.\n",
    "\n"
   ]
  },
  {
   "cell_type": "markdown",
   "metadata": {},
   "source": [
    "- **Routine 1** runs multiple cycles (`x = 3`) to demonstrate repeatability. In each cycle:\n",
    "  - The system is flushed to prepare for dispensing.\n",
    "  - The scale is activated, tared, and used to measure the weight of dispensed material.\n",
    "  - The stepper motor dispenses a fixed number of steps (`amount_or_steps=2000`).\n",
    "  - The system pauses to stabilize the weight before measuring.\n",
    "  - Finally, the material is mixed and any excess liquid is drained."
   ]
  },
  {
   "cell_type": "code",
   "execution_count": null,
   "metadata": {},
   "outputs": [],
   "source": [
    "# Assuming the dispenseBot object and its methods are properly defined elsewhere in your code.\n",
    "\n",
    "x = 3\n",
    "amount_or_steps = 2000\n",
    "runSteps = True\n",
    "\n",
    "for i in range(x):\n",
    "    print(f\"Starting cycle {i+1}\")\n",
    "    \n",
    "    # Flushing the system\n",
    "    dispenseBot.runFlush(2)\n",
    "    time.sleep(1)\n",
    "    \n",
    "    # Weighing procedure\n",
    "    dispenseBot.scaleOn()\n",
    "    dispenseBot.tare()\n",
    "    time.sleep(1)\n",
    "    dispenseBot.tare()\n",
    "    time.sleep(1)\n",
    "    \n",
    "    # Enabling and running the stepper motor to dispense\n",
    "    dispenseBot.enableStepper()\n",
    "    time.sleep(0.5)\n",
    "    dispenseBot.dispense(amount_or_steps=amount_or_steps, runSteps=runSteps, direction=dispenseBot.dispenseDir)\n",
    "    # time.sleep(0.2)\n",
    "    # dispenseBot.dispense(amount_or_steps = 200, runSteps=True, direction = 0)\n",
    "    time.sleep(0.5)\n",
    "    dispenseBot.disableStepper()\n",
    "    \n",
    "    # print(f\"Settling...\")\n",
    "    time.sleep(5)\n",
    "    for j in range(30):\n",
    "        weight = dispenseBot.measWeight()\n",
    "        time.sleep(0.1)\n",
    "    print(f\"Weight measured: {weight} grams\")\n",
    "    time.sleep(0.2)\n",
    "    dispenseBot.scaleOff()\n",
    "    \n",
    "    # Mixing and draining\n",
    "    dispenseBot.runMixer(2)\n",
    "    time.sleep(3)\n",
    "    dispenseBot.runDrain(2)\n",
    "\n",
    "    print(f\"Cycle {i+1} completed\")"
   ]
  },
  {
   "cell_type": "markdown",
   "metadata": {},
   "source": [
    "- **Routine 2** runs a single cycle (`x = 1`) with a specific target weight (`desired_amount=0.500` grams). It highlights:\n",
    "  - The system's ability to dispense a precise amount of powder using the `dispense_powder_seq` method.\n",
    "  - Settling and weight measurement to verify the target amount.\n",
    "  - Mixing and draining operations to complete the process.\n"
   ]
  },
  {
   "cell_type": "code",
   "execution_count": null,
   "metadata": {},
   "outputs": [],
   "source": [
    "x = 1\n",
    "desired_amount = 0.500\n",
    "\n",
    "for i in range(x):\n",
    "    print(f\"Starting cycle {i+1}\")\n",
    "    \n",
    "    # Flushing the system\n",
    "    dispenseBot.runFlush(1.3)\n",
    "    time.sleep(1)  \n",
    "    \n",
    "    # Weighing procedure\n",
    "    dispenseBot.scaleOn()\n",
    "    dispenseBot.tare()\n",
    "    time.sleep(0.5)\n",
    "    dispenseBot.tare()\n",
    "    time.sleep(0.5)\n",
    "    \n",
    "    dispenseBot.dispense_powder_seq(desired_amount=desired_amount)\n",
    "\n",
    "    print(f\"Settling...\")\n",
    "    time.sleep(5)\n",
    "    for j in range(30):\n",
    "        weight = dispenseBot.measWeight()\n",
    "        time.sleep(0.1)\n",
    "    print(f\"Weight measured: {weight} grams\")\n",
    "    time.sleep(0.2)\n",
    "    dispenseBot.scaleOff()\n",
    "    dispenseBot.disableStepper()\n",
    "    \n",
    "    # Mixing and draining\n",
    "    dispenseBot.runMixer(5)\n",
    "    time.sleep(2)\n",
    "    dispenseBot.runDrain(10)\n",
    "\n",
    "    print(f\"Cycle {i+1} completed\")"
   ]
  },
  {
   "cell_type": "markdown",
   "metadata": {},
   "source": [
    "### Dispensing\n",
    "This section performs a complete dispensing operation, including adding solvent, preparing the scale, and dispensing powder:\n"
   ]
  },
  {
   "cell_type": "markdown",
   "metadata": {},
   "source": [
    "1. **Adding Solvent**: (This is only used for the dummy setup, as an in-line system this owuld be replaced by liquid handling of upstream processes)\n",
    "   - `runFlush(1)` adds liquid (solvent) to the system for 1 second.\n",
    "   - This prepares the system for dispensing operations.\n",
    "   - In a real implementation, this could be automated with a sensor to detect the solvent level.\n"
   ]
  },
  {
   "cell_type": "code",
   "execution_count": null,
   "metadata": {},
   "outputs": [],
   "source": [
    "time.sleep(1)\n",
    "dispenseBot.runFlush(1)"
   ]
  },
  {
   "cell_type": "markdown",
   "metadata": {},
   "source": [
    "2. **Preparing the Scale**:\n",
    "   - `scaleOn()` activates the scale for weight measurements.\n",
    "   - `tare()` zeros the scale to ensure accurate readings.\n",
    "   - `measWeight()` measures the current weight, verifying the scale's readiness.\n"
   ]
  },
  {
   "cell_type": "code",
   "execution_count": null,
   "metadata": {},
   "outputs": [],
   "source": [
    "print(\"The desired amount of solvent is added, we are ready to dispense!!!\")\n",
    "dispenseBot.scaleOn()\n",
    "dispenseBot.tare()"
   ]
  },
  {
   "cell_type": "code",
   "execution_count": null,
   "metadata": {},
   "outputs": [],
   "source": [
    "dispenseBot.measWeight()"
   ]
  },
  {
   "cell_type": "markdown",
   "metadata": {},
   "source": [
    "3. **Dispensing Powder**:\n",
    "   - `dispense_powder_seq(desired_amount=0.05)` dispenses 0.05 grams of powder using the system’s sequence.\n",
    "   - The `desired_amount` parameter specifies the target weight for dispensing.\n"
   ]
  },
  {
   "cell_type": "code",
   "execution_count": null,
   "metadata": {},
   "outputs": [],
   "source": [
    "dispenseBot.dispense_powder_seq(desired_amount = 0.05)"
   ]
  },
  {
   "cell_type": "markdown",
   "metadata": {},
   "source": [
    "4. **Reset System**:\n",
    "   - `reset()` resets the controller to prepare for subsequent operations.\n"
   ]
  },
  {
   "cell_type": "code",
   "execution_count": null,
   "metadata": {},
   "outputs": [],
   "source": [
    "dispenseBot.reset()"
   ]
  },
  {
   "cell_type": "code",
   "execution_count": null,
   "metadata": {},
   "outputs": [],
   "source": [
    "dispenseBot.disableStepper()"
   ]
  },
  {
   "cell_type": "markdown",
   "metadata": {},
   "source": [
    "6. **Stepper Motor Operations**:\n",
    "   - `enableStepper()` and `disableStepper()` are used to activate and deactivate the stepper motor, ensuring precise control.\n",
    "   - `dispense(runSteps=True, amount_or_steps=1000)` demonstrates dispensing a specific number of steps (1000 steps in this case).\n"
   ]
  },
  {
   "cell_type": "code",
   "execution_count": null,
   "metadata": {},
   "outputs": [],
   "source": [
    "dispenseBot.enableStepper()"
   ]
  },
  {
   "cell_type": "code",
   "execution_count": null,
   "metadata": {},
   "outputs": [],
   "source": [
    "dispenseBot.dispense(runSteps=True, amount_or_steps=1000)"
   ]
  },
  {
   "cell_type": "code",
   "execution_count": null,
   "metadata": {},
   "outputs": [],
   "source": [
    "dispenseBot.disableStepper()"
   ]
  },
  {
   "cell_type": "markdown",
   "metadata": {},
   "source": [
    "### Auger Calibration\n",
    "This section calibrates the auger mechanism to ensure accurate powder dispensing:"
   ]
  },
  {
   "cell_type": "markdown",
   "metadata": {},
   "source": [
    "1. **Calibration Parameters**:\n",
    "   - `direction`: Specifies the auger rotation direction.\n",
    "   - `maxSteps=50000`: The maximum number of steps to test during calibration.\n",
    "   - `stepInterval=5000`: Step increments for calibration testing.\n",
    "   - `minSteps=0`: Minimum steps to start the calibration process.\n",
    "   - `augerType='8mm_base'`: Defines the type of auger being calibrated.\n",
    "   - `powderType='dishwasher_salt'`: The type of powder being used for calibration.\n",
    "\n",
    "2. **Calibration Procedure**:\n",
    "   - `calibrate_auger_seq()` performs the calibration sequence.\n",
    "   - The function evaluates the performance of the auger mechanism across different step intervals and generates data for accurate control.\n",
    "   - This ensures that the dispensing system operates reliably and consistently with various powders and auger configurations.\n",
    "   - The sequence automatically updates the config.json file with the new calibration value of the chosen auger and powder type. It overrides the current one, so make sure you have a backup."
   ]
  },
  {
   "cell_type": "code",
   "execution_count": null,
   "metadata": {},
   "outputs": [],
   "source": [
    "direction = dispenseBot.dispenseDir\n",
    "maxSteps = 50000\n",
    "stepInterval = 5000\n",
    "minSteps = 0\n",
    "augerType = '8mm_base'\n",
    "powderType = 'dishwasher_salt'\n",
    "\n",
    "dispenseBot.calibrate_auger_seq(direction = direction, \n",
    "                                maxSteps = maxSteps, \n",
    "                                stepInterval = stepInterval, \n",
    "                                augerType = augerType, \n",
    "                                powderType = powderType\n",
    "                                )"
   ]
  },
  {
   "cell_type": "markdown",
   "metadata": {},
   "source": [
    "### Scale Calibration\n",
    "Performs scale calibration using the calibrate_scale_seq function.\n",
    "\n",
    "Parameters:\n",
    " - dispenseBot: An instance of the PowderDispenseController.\n",
    " - known_weights (list of float): A list of known weights for calibration.\n",
    " - num_measurements (int): Number of measurements to average per weight.\n",
    "\n",
    "Here, a set of known weights should be set, this can either be done with test weights, or with references weights which has been checked with an analytical scale."
   ]
  },
  {
   "cell_type": "code",
   "execution_count": null,
   "metadata": {},
   "outputs": [],
   "source": [
    "known_weights = [0.01, 0.05, 0.1, 0.2, 0.5, 1, 5, 10, 20]\n",
    "num_measurements = 10\n",
    "\n",
    "dispenseBot.calibrate_scale_seq(\n",
    "                                knownWeights=known_weights, \n",
    "                                numMeas=num_measurements\n",
    "                                )"
   ]
  },
  {
   "cell_type": "markdown",
   "metadata": {},
   "source": [
    "Running this will set new calibration parameters in the config.json file. Be aware that it will overwrite the default, this can be changed in the source code, controller.py."
   ]
  },
  {
   "cell_type": "markdown",
   "metadata": {},
   "source": [
    "### Sensitivity Test\n",
    "This section tests the sensitivity of the system in two modes:"
   ]
  },
  {
   "cell_type": "markdown",
   "metadata": {},
   "source": [
    "1. **Scale Only**:\n",
    "   - `use_dispenser=False`: Tests the scale’s ability to detect small changes in weight without involving the dispenser.\n",
    "   - `reps=5`: The test is repeated 5 times to ensure consistency.\n",
    "   - `samples=5`: Each repetition collects 5 samples for statistical analysis.\n",
    "   - This test is ideal for verifying the scale’s precision and stability in detecting minute weight differences.\n",
    "   - This test can also be carried out if the auger is not connected.\n"
   ]
  },
  {
   "cell_type": "code",
   "execution_count": null,
   "metadata": {},
   "outputs": [],
   "source": [
    "dispenseBot.sensitivity_test(reps = 5, \n",
    "                             samples = 5, \n",
    "                             use_dispenser = False\n",
    "                             )"
   ]
  },
  {
   "cell_type": "markdown",
   "metadata": {},
   "source": [
    "2. **With Dispenser**:\n",
    "   - `use_dispenser=True`: Includes the dispenser in the sensitivity test to assess its impact on the system’s accuracy.\n",
    "   - `amount_or_steps=0.05`: Dispenses a small amount of material in each sample to simulate realistic operation.\n",
    "   - Like the scale-only mode, this test runs for 5 repetitions, collecting 5 samples each.\n",
    "   - Useful for evaluating the combined sensitivity performance of the scale and dispenser."
   ]
  },
  {
   "cell_type": "code",
   "execution_count": null,
   "metadata": {},
   "outputs": [],
   "source": [
    "dispenseBot.sensitivity_test(reps = 5, \n",
    "                             samples = 5,\n",
    "                             use_dispenser = True,\n",
    "                             amount_or_steps = 0.05\n",
    "                             )"
   ]
  },
  {
   "cell_type": "markdown",
   "metadata": {},
   "source": [
    "### Accuracy Test\n",
    "This section evaluates the system’s accuracy by comparing the measured weights with known or desired weights:\n",
    "**Parameters**:\n",
    "   - `use_known_weights=True`: Uses a predefined list of weights to validate scale accuracy.\n",
    "   - `known_weights=[0.01, 0.05, 0.1, 0.2, 0.5, 1, 5, 10, 20]`: A set of weights in grams for testing, covering a wide range of values. These are just example values, and should just be switched out with a different set of weights.\n",
    "   - `desired_amount=1.23`: Target amount (in grams) to dispense if `use_known_weights` is False. Example value.\n",
    "   - `reps=3`: The test is repeated 3 times to ensure consistency.\n",
    "   - `samples=3`: Each repetition collects 3 samples for accuracy analysis.\n",
    "\n",
    "**Procedure**:\n",
    "   - If using known weights:\n",
    "     - Each weight is placed on the scale, and the system measures the weight to evaluate accuracy.\n",
    "   - If not using known weights:\n",
    "     - The system dispenses the specified `desired_amount` and measures the actual weight for comparison.\n",
    "   - An interactive procedure is set up, to guide the user.\n",
    "   - The test logs the results for analysis and performance evaluation.\n",
    "\n",
    "**Outcome**:\n",
    "   - Results include measured weights, known or target weights, and errors, which are saved in a CSV file for further inspection."
   ]
  },
  {
   "cell_type": "code",
   "execution_count": null,
   "metadata": {},
   "outputs": [],
   "source": [
    "use_known_weights = True\n",
    "known_weights = [0.01, 0.05, 0.1, 0.2, 0.5, 1, 5, 10, 20]\n",
    "desired_amount = 1.23\n",
    "reps = 3\n",
    "samples = 3\n",
    "\n",
    "dispenseBot.accuracy_test(\n",
    "                            use_known_weights=use_known_weights,\n",
    "                            known_weights=known_weights,\n",
    "                            desired_amount=desired_amount,\n",
    "                            reps=reps,\n",
    "                            samples=samples,\n",
    "                        )"
   ]
  },
  {
   "cell_type": "markdown",
   "metadata": {},
   "source": [
    "### Stability Test\n",
    "This section measures the system’s ability to maintain stable performance over an extended period:\n",
    "**Parameters**:\n",
    "- `test_duration=600`: The test runs for 600 seconds (10 minutes).\n",
    "- `desired_amount=0.1`: The target weight (in grams) to dispense repeatedly during the test.\n",
    "\n",
    "**Procedure**:\n",
    "- The system dispenses the `desired_amount` repeatedly over the test duration.\n",
    "- Please observe the system at times while the test runs. Physical errors might occur, keep an eye out for the following errors:\n",
    "    - All the components start and stop as they should\n",
    "    - Temperature rise in the stepper motor \n",
    "    - Substance getting stuck in the auger\n",
    "    - Right amount of liquid being dispensed - overflow\n",
    "    - The mixer still works sufficiently\n",
    "- Measures and logs the weight after each cycle to monitor variations.\n",
    "\n",
    "**Outcome**:\n",
    "- The test evaluates how well the system maintains consistency and accuracy over time.\n",
    "- Useful for identifying potential drift or instability in hardware or software performance."
   ]
  },
  {
   "cell_type": "code",
   "execution_count": null,
   "metadata": {},
   "outputs": [],
   "source": [
    "dispenseBot.stability_test(test_duration = 600, desired_amount = 0.1)"
   ]
  }
 ],
 "metadata": {
  "kernelspec": {
   "display_name": "Python 3",
   "language": "python",
   "name": "python3"
  },
  "language_info": {
   "codemirror_mode": {
    "name": "ipython",
    "version": 3
   },
   "file_extension": ".py",
   "mimetype": "text/x-python",
   "name": "python",
   "nbconvert_exporter": "python",
   "pygments_lexer": "ipython3",
   "version": "3.13.0"
  }
 },
 "nbformat": 4,
 "nbformat_minor": 2
}
